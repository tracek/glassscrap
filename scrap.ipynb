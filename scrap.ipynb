{
 "cells": [
  {
   "cell_type": "code",
   "execution_count": null,
   "metadata": {},
   "outputs": [],
   "source": [
    "import time\n",
    "import json\n",
    "from random import randint\n",
    "from bs4 import BeautifulSoup\n",
    "from selenium import webdriver\n",
    "from selenium.webdriver.common.by import By\n",
    "from selenium.webdriver.support.ui import WebDriverWait\n",
    "from selenium.webdriver.support import expected_conditions as EC\n",
    "from selenium.common.exceptions import TimeoutException\n",
    "from selenium.webdriver.common.keys import Keys"
   ]
  },
  {
   "cell_type": "code",
   "execution_count": null,
   "metadata": {},
   "outputs": [],
   "source": [
    "def init_driver(driver_path):\n",
    "    driver = webdriver.Chrome(driver_path)\n",
    "    driver.wait = WebDriverWait(driver, 10)\n",
    "    return driver\n",
    "\n",
    "\n",
    "def get_credentials(path):\n",
    "    with open(path, \"r\") as f:\n",
    "        lines = f.readlines()\n",
    "        account = Credentials(username=lines[0], password=lines[1])\n",
    "    return account\n",
    "\n",
    "\n",
    "def login(driver, credentials):\n",
    "    driver.get(\"http://www.glassdoor.com/profile/login_input.htm\")\n",
    "    try:\n",
    "        user_field = driver.wait.until(EC.presence_of_element_located(\n",
    "            (By.NAME, \"username\")))\n",
    "        pw_field = driver.find_element_by_class_name(\"signin-password\")\n",
    "        login_button = driver.find_element_by_id(\"signInBtn\")\n",
    "        user_field.send_keys(credentials.username)\n",
    "        user_field.send_keys(Keys.TAB)\n",
    "        time.sleep(1)\n",
    "        pw_field.send_keys(credentials.password)\n",
    "        time.sleep(1)\n",
    "        login_button.click()\n",
    "    except TimeoutException:\n",
    "        print(\"TimeoutException! Username/password field or login button not found on glassdoor.com\")\n",
    "\n",
    "\n",
    "def get_total_pages(driver, url):\n",
    "    driver.get(url)\n",
    "    html = driver.page_source\n",
    "    soup = BeautifulSoup(html, \"html.parser\")\n",
    "    total_rev_str = soup.find('a', {'class': 'eiCell cell reviews active'}).find('span', {'class': 'num h2'}).text\n",
    "    total_rev = int(total_rev_str)\n",
    "    total_pages = total_rev // reviews_per_page\n",
    "    return total_pages"
   ]
  },
  {
   "cell_type": "code",
   "execution_count": null,
   "metadata": {},
   "outputs": [],
   "source": [
    "chromium_path = \"/usr/local/bin/chromedriver\"\n",
    "reviews_per_page = 10\n",
    "companyName = \"sandvik\"\n",
    "companyURL = \"https://www.glassdoor.com/Reviews/Sandvik-Reviews-E10375.htm\""
   ]
  },
  {
   "cell_type": "code",
   "execution_count": null,
   "metadata": {},
   "outputs": [],
   "source": [
    "driver = init_driver(chromium_path)\n",
    "credentials = get_credentials(\"account.txt\")\n",
    "login(driver=driver, credentials=credentials)\n",
    "total_pages = get_total_pages(driver=driver, url=companyURL)"
   ]
  },
  {
   "cell_type": "code",
   "execution_count": null,
   "metadata": {},
   "outputs": [],
   "source": [
    "HTML = driver.page_source\n",
    "soup = BeautifulSoup(HTML, \"html.parser\")\n",
    "reviews = soup.find_all(\"li\", { \"class\" : [\"empReview\", \"padVert\"] })"
   ]
  },
  {
   "cell_type": "code",
   "execution_count": null,
   "metadata": {},
   "outputs": [],
   "source": []
  },
  {
   "cell_type": "code",
   "execution_count": null,
   "metadata": {},
   "outputs": [],
   "source": []
  },
  {
   "cell_type": "code",
   "execution_count": null,
   "metadata": {},
   "outputs": [],
   "source": [
    "d = []\n",
    "\n",
    "for page_no in range(1, total_pages):\n",
    "    currentURL = '{}_P{}.htm'.format(companyURL[:companyURL.rfind('.')], page_no)\n",
    "    driver.get(currentURL)\n",
    "    driver.execute_script(\"window.scrollTo(0, 100)\")\n",
    "    time.sleep(randint(5,10))\n",
    "    HTML = driver.page_source\n",
    "    soup = BeautifulSoup(HTML, \"html.parser\")\n",
    "    reviews = soup.find_all(\"li\", { \"class\" : [\"empReview\", \"padVert\"] })\n",
    "    dates = parse_reviews_HTML(reviews)\n",
    "    d.extend(dates)"
   ]
  },
  {
   "cell_type": "code",
   "execution_count": null,
   "metadata": {},
   "outputs": [],
   "source": []
  }
 ],
 "metadata": {
  "kernelspec": {
   "display_name": "Python 3",
   "language": "python",
   "name": "python3"
  },
  "language_info": {
   "codemirror_mode": {
    "name": "ipython",
    "version": 3
   },
   "file_extension": ".py",
   "mimetype": "text/x-python",
   "name": "python",
   "nbconvert_exporter": "python",
   "pygments_lexer": "ipython3",
   "version": "3.5.2"
  }
 },
 "nbformat": 4,
 "nbformat_minor": 2
}
