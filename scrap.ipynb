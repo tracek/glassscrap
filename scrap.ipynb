{
 "cells": [
  {
   "cell_type": "code",
   "execution_count": 80,
   "metadata": {},
   "outputs": [],
   "source": [
    "import time\n",
    "import json\n",
    "from collections import namedtuple\n",
    "from random import randint\n",
    "from bs4 import BeautifulSoup\n",
    "from selenium import webdriver\n",
    "from selenium.webdriver.common.by import By\n",
    "from selenium.webdriver.support.ui import WebDriverWait\n",
    "from selenium.webdriver.support import expected_conditions as EC\n",
    "from selenium.common.exceptions import TimeoutException\n",
    "from selenium.webdriver.common.keys import Keys"
   ]
  },
  {
   "cell_type": "code",
   "execution_count": 79,
   "metadata": {},
   "outputs": [],
   "source": [
    "Credentials = namedtuple('Credentials', ['username', 'password'])\n",
    "\n",
    "\n",
    "def init_driver(driver_path):\n",
    "    driver = webdriver.Chrome(driver_path)\n",
    "    driver.wait = WebDriverWait(driver, 10)\n",
    "    return driver\n",
    "\n",
    "def get_credentials(path):\n",
    "    with open(path, \"r\") as f:\n",
    "        lines = f.readlines()\n",
    "        account = Credentials(username=lines[0], password=lines[1])\n",
    "    return account\n",
    "\n",
    "def login(driver, credentials):\n",
    "    driver.get(\"http://www.glassdoor.com/profile/login_input.htm\")\n",
    "    try:\n",
    "        user_field = driver.wait.until(EC.presence_of_element_located(\n",
    "            (By.NAME, \"username\")))\n",
    "        pw_field = driver.find_element_by_class_name(\"signin-password\")\n",
    "        login_button = driver.find_element_by_id(\"signInBtn\")\n",
    "        user_field.send_keys(credentials.username)\n",
    "        user_field.send_keys(Keys.TAB)\n",
    "        time.sleep(1)\n",
    "        pw_field.send_keys(credentials.password)\n",
    "        time.sleep(1)\n",
    "        login_button.click()\n",
    "        time.sleep(3)\n",
    "    except TimeoutException:\n",
    "        print(\"TimeoutException! Username/password field or login button not found on glassdoor.com\")\n",
    "\n",
    "def get_total_pages(driver, url):\n",
    "    driver.get(url)\n",
    "    html = driver.page_source\n",
    "    soup = BeautifulSoup(html, \"html.parser\")\n",
    "    total_rev_str = soup.find('a', {'class': 'eiCell cell reviews active'}).find('span', {'class': 'num h2'}).text\n",
    "    total_rev = int(total_rev_str)\n",
    "    total_pages = total_rev // reviews_per_page\n",
    "    return total_pages\n",
    "\n",
    "def get_datetime(review):\n",
    "    datetime = review.find(\"time\").attrs['datetime']\n",
    "    return datetime\n",
    "\n",
    "def get_ratings(review):\n",
    "    themes = ['Work Life Balance',\n",
    "              'Culture and Values',\n",
    "              'Career Opportunities',\n",
    "              'Compensation and Benefits',\n",
    "              'Senior Management']\n",
    "    ratings_html = review.find_all('span', {'class': \"gdBars gdRatings med \"})\n",
    "    ratings = {theme: int(float(rating.attrs['title'])) for theme, rating in zip(themes, ratings_html)}\n",
    "    return ratings\n",
    "\n",
    "def get_title(review):\n",
    "    title = review.find('span', {'class': 'authorJobTitle middle reviewer'}).getText()\n",
    "    return title\n",
    "\n",
    "def get_location(review):\n",
    "    location = review.find('span', {'class': 'authorLocation middle'}).getText()\n",
    "    return location\n",
    "\n",
    "def get_recommendations(review):\n",
    "    options = {'CE'}\n",
    "    t = review.find('div', {'class': 'flex-grid recommends'})\n",
    "    recommendations_html = t.find_all('span', class_='middle')\n",
    "    recommendations = {'Recommendation {}'.format(idx+1): rec.getText()\n",
    "                        for idx, rec in enumerate(recommendations_html)}\n",
    "    return recommendations"
   ]
  },
  {
   "cell_type": "code",
   "execution_count": 3,
   "metadata": {},
   "outputs": [],
   "source": [
    "chromium_path = \"/usr/local/bin/chromedriver\"\n",
    "reviews_per_page = 10\n",
    "companyName = \"sandvik\"\n",
    "companyURL = \"https://www.glassdoor.com/Reviews/Sandvik-Reviews-E10375.htm\""
   ]
  },
  {
   "cell_type": "code",
   "execution_count": 4,
   "metadata": {},
   "outputs": [],
   "source": [
    "driver = init_driver(chromium_path)\n",
    "credentials = get_credentials(\"account.txt\")\n",
    "login(driver=driver, credentials=credentials)\n",
    "total_pages = get_total_pages(driver=driver, url=companyURL)"
   ]
  },
  {
   "cell_type": "code",
   "execution_count": 6,
   "metadata": {},
   "outputs": [],
   "source": [
    "HTML = driver.page_source\n",
    "soup = BeautifulSoup(HTML, \"html.parser\")\n",
    "reviews = soup.find_all(\"li\", { \"class\" : [\"empReview\", \"padVert\"] })"
   ]
  },
  {
   "cell_type": "code",
   "execution_count": null,
   "metadata": {},
   "outputs": [],
   "source": [
    "driver.get(companyURL)"
   ]
  },
  {
   "cell_type": "code",
   "execution_count": null,
   "metadata": {},
   "outputs": [],
   "source": [
    "total_pages = get_total_pages(driver=driver, url=companyURL)"
   ]
  },
  {
   "cell_type": "code",
   "execution_count": null,
   "metadata": {},
   "outputs": [],
   "source": [
    "d = []\n",
    "\n",
    "for page_no in range(1, total_pages):\n",
    "    currentURL = '{}_P{}.htm'.format(companyURL[:companyURL.rfind('.')], page_no)\n",
    "    driver.get(currentURL)\n",
    "    driver.execute_script(\"window.scrollTo(0, 100)\")\n",
    "    time.sleep(randint(5,10))\n",
    "    HTML = driver.page_source\n",
    "    soup = BeautifulSoup(HTML, \"html.parser\")\n",
    "    reviews = soup.find_all(\"li\", { \"class\" : [\"empReview\", \"padVert\"] })\n",
    "    dates = parse_reviews_HTML(reviews)\n",
    "    d.extend(dates)"
   ]
  },
  {
   "cell_type": "code",
   "execution_count": 59,
   "metadata": {},
   "outputs": [],
   "source": [
    "review = reviews[1]"
   ]
  },
  {
   "cell_type": "code",
   "execution_count": 60,
   "metadata": {},
   "outputs": [
    {
     "data": {
      "text/plain": [
       "'2017-11-26'"
      ]
     },
     "execution_count": 60,
     "metadata": {},
     "output_type": "execute_result"
    }
   ],
   "source": [
    "review.find(\"time\").attrs['datetime']"
   ]
  },
  {
   "cell_type": "code",
   "execution_count": 61,
   "metadata": {
    "scrolled": true
   },
   "outputs": [
    {
     "data": {
      "text/plain": [
       "<li class=\" empReview cf \" id=\"empReview_18070220\"><div class=\"hreview\"><div class=\"cf\"><div class=\"floatLt\"><time class=\"date subtle small\" datetime=\"2017-11-26\"> Nov 26, 2017</time></div><p class=\"helpfulReviews small tightVert floatRt\"></p></div><div class=\" tbl fill reviewTop\"><div class=\"row\"><div class=\"cell sqLogoCell showDesk\"><span class=\"sqLogo tighten smSqLogo logoOverlay\"><img alt=\"Sandvik Logo\" class=\"lazy lazy-loaded\" data-original=\"https://media.glassdoor.com/sqls/10375/sandvik-squarelogo.png\" data-original-2x=\"https://media.glassdoor.com/sqlm/10375/sandvik-squarelogo.png\" data-retina-ok=\"true\" src=\"https://media.glassdoor.com/sqls/10375/sandvik-squarelogo.png\" style=\"opacity: 1;\" title=\"\"/></span></div><div class=\"cell\"><h2 class=\" h2 summary strong tightTop margBotXs\"><a class=\"reviewLink\" href=\"/Reviews/Employee-Review-Sandvik-RVW18070220.htm\"><span class=\"summary \">\"sales engineer\"</span></a></h2><div class=\"tbl reviewMeta\"><div class=\"gdStarsWrapper cell top\"><span class=\"gdStars gdRatings sm margRt\"><span class=\"rating\"><span class=\"value-title\" title=\"2.0\"></span></span><i><i></i><i class=\"star\"><span>Star</span></i></i><i><i></i><i class=\"star\"><span>Star</span></i></i><i><i style=\"width: 0.0%\"></i><i class=\"star\"><span>Star</span></i></i><i><i class=\"star\"><span>Star</span></i></i><i><i class=\"star\"><span>Star</span></i></i><i class=\"subRatingsDrop\"></i><div class=\"subRatings module\"><div class=\"dummyHoverArea\"></div><i class=\"beak\"></i><ul class=\"undecorated\"><li><div class=\"minor\">Work/Life Balance</div><span class=\"gdBars gdRatings med \" title=\"1.0\"><i><i style=\"width: 100.0%\"></i></i><i></i><i></i><i></i><i></i></span></li><li><div class=\"minor\">Culture &amp; Values</div><span class=\"gdBars gdRatings med \" title=\"2.0\"><i><i></i></i><i><i></i></i><i><i style=\"width: 0.0%\"></i></i><i></i><i></i></span></li><li><div class=\"minor\">Career Opportunities</div><span class=\"gdBars gdRatings med \" title=\"2.0\"><i><i></i></i><i><i></i></i><i><i style=\"width: 0.0%\"></i></i><i></i><i></i></span></li><li><div class=\"minor\">Comp &amp; Benefits</div><span class=\"gdBars gdRatings med \" title=\"4.0\"><i><i></i></i><i><i></i></i><i><i></i></i><i><i></i></i><i><i style=\"width: 0.0%\"></i></i></span></li><li><div class=\"minor\">Senior Management</div><span class=\"gdBars gdRatings med \" title=\"1.0\"><i><i style=\"width: 100.0%\"></i></i><i></i><i></i><i></i><i></i></span></li></ul></div></span></div><div class=\" cell top\"><div class=\"author minor tbl\"><span class=\"authorInfo tbl hideHH\"><span class=\"authorJobTitle middle reviewer\">Former Employee - Sales Representative</span><span class=\"middle\"> in </span><span class=\"authorLocation middle\">Cleveland, OH</span><span class=\"cell middle padLtSm\"><i class=\"flag us\"></i></span></span><span class=\"showHH authorInfo tbl\"><div class=\" cell middle minor margTop\"><span class=\"authorJobTitle reviewer\">Former Employee - Sales Representative</span><span> in </span><span class=\"authorLocation\">Cleveland, OH</span><span class=\"middle padLtSm\"><i class=\"flag us\"></i></span></div></span></div></div></div></div></div></div><div class=\"tbl fill\"><div class=\"row\"><div class=\"cell sqLogoCell showDesk\"></div><div class=\"cell reviewBodyCell\"><div class=\"flex-grid recommends\"><div class=\"tightLt col span-1-3\"><div class=\"middle\"><div class=\"cell\"><i class=\"sqLed middle sm red margRtXs \"></i></div><div class=\"cell\"><span class=\"middle\">Doesn't Recommend</span></div></div></div><div class=\"tightLt col span-1-3\"><div class=\"middle\"><div class=\"cell\"><i class=\"sqLed middle sm red margRtXs \"></i></div><div class=\"cell\"><span class=\"middle\">Negative Outlook</span></div></div></div></div><p class=\" tightBot mainText\">I worked at Sandvik full-time (More than 10 years)</p><div class=\"description \"><div class=\" tbl fill prosConsAdvice truncateData\" data-animate-after-less=\"true\" data-click-anywhere=\"true\" data-less-str=\"Show Less\" data-more-str=\"Show More\" data-truncate-chars=\"420\" data-truncate-toggle=\"true\"><div class=\"row\"><div class=\"cell top padTopMd\"><p class=\"strong tightVert\">Pros</p><p class=\" pros mainText truncateThis wrapToggleStr\">Benefits - Some old timers left with a lot of industry knowledge to learn from.</p></div></div><div class=\"row padBotLg\"><div class=\"cell top padTopMd\"><p class=\"strong tightVert\">Cons</p><p class=\" cons mainText truncateThis wrapToggleStr\">Endless management reorganization. Intellectual capital and good managers are leaving. Many managers have insufficient knowledge or experience to manage sales teams and above. Ethical issues. Code of conduct isn't adhered to, problems just get swept under the carpet. Marketing seems lost.</p></div></div><div class=\"row\"><div class=\"cell top padTopMd\"><p class=\"strong tightVert\">Advice to Management</p><p class=\" adviceMgmt mainText truncateThis wrapToggleStr\">Diversity and inclusion is great when it works, quit promoting and hiring just to fit expectations. Listen to the people who are in touch with your customers. Listen, listen, listen. Sales is what drives your business, find a way to positively motivate your sales teams, because it doesn't exist anymore. Start with the managers.</p></div></div></div><div class=\"tbl fill outlookEmpReview\"><div class=\"row\"><div class=\" cell\"><!-- showFeatureReviewLink=false --><div class=\"reviewFooter cf\"><div class=\"reviewFooter cf\"><div class=\"floatLt floatLt shareContent\"><div class=\"share-callout-inline\"><div class=\"callout-container\"><ul class=\"tbl social-share-icon-list noPad\"><li class=\"cell middle\"><a class=\"social-share-icon facebook-share\" data-label=\"facebook\" data-url=\"https://www.glassdoor.com/Reviews/Employee-Review-Sandvik-RVW18070220.htm\" href=\"#\"><span class=\"offScreen\">Share on Facebook</span></a></li><li class=\"cell middle\"><a class=\"social-share-icon twitter-share\" data-label=\"twitter\" href=\"https://twitter.com/share?url=https%3A%2F%2Fwww.glassdoor.com%2FReviews%2FEmployee-Review-Sandvik-RVW18070220.htm&amp;text=Sandvik+review+on+%23Glassdoor%3A+%22sales+engineer%22\"><span class=\"offScreen\">Share on Twitter</span></a></li><li class=\"cell middle whatsapp\"><a class=\"social-share-icon whatsapp-share\" data-action=\"share/whatsapp/share\" data-label=\"whatsapp\" href=\"whatsapp://send?text=https%3A%2F%2Fwww.glassdoor.com%2FReviews%2FEmployee-Review-Sandvik-RVW18070220.htm\"><span class=\"offScreen\">Share on WhatsApp</span></a></li><li class=\"cell middle\"><a class=\"social-share-icon email-share\" data-label=\"email\" href=\"mailto:?Subject=Sandvik review on Glassdoor&amp;body=Read this review of Sandvik on Glassdoor. %22sales engineer%22 https%3A%2F%2Fwww.glassdoor.com%2FReviews%2FEmployee-Review-Sandvik-RVW18070220.htm\"><span class=\"offScreen\">Share via Email</span></a></li><li class=\"cell middle\"><a class=\"social-share-icon link-share\" data-label=\"link\" href=\"https://www.glassdoor.com/Reviews/Employee-Review-Sandvik-RVW18070220.htm\"><span class=\"offScreen\">Copy Link</span></a></li><li class=\"cell middle linkCopySuccess\"><span class=\"social-share-icon icon-check showDesk\"></span><span>Link Copied!</span></li></ul></div></div><!-- .social-share-btns --></div><div class=\"floatRt flagContentBtn tightVert\"><span class=\"flagContent _ok\" data-disp-type=\"review\" data-id=\"18070220\" data-member=\"true\" data-review-link=\"https://www.glassdoor.com/Reviews/Employee-Review-Sandvik-RVW18070220.htm\" data-type=\"EMPLOYER_REVIEW\" id=\"Flag_EMPLOYER_REVIEW_18070220\"><button class=\"tightHorz simple gd-btn gd-btn-button gd-btn-2 gd-btn-sm gd-btn-icon gradient\" title=\"Flag as Inappropriate\" type=\"button\"><i class=\"icon-flag-content \"><span>Flag as Inappropriate</span></i><i class=\"hlpr\"></i><span class=\"offScreen\">Flag as Inappropriate</span></button><span class=\"posPt\"></span></span></div><div class=\"floatRt helpfulBtn margRtMd tightVert\"><span class=\"block voteHelpful _ok\" data-count=\"0\" data-id=\"18070220\" data-member=\"true\" data-type=\"EMPLOYER_REVIEW\"><button class=\"tight gd-btn gd-btn-button gd-btn-2 gd-btn-sm gradient\" type=\"button\"><span>Helpful<span class=\"count hidden\"> (<span>0</span>)</span></span><i class=\"hlpr\"></i></button></span></div><div class=\"clear\"></div><div class=\"comment empRepComment padTopLg margTopLg hidden\"><span class=\"borderTriangle\"></span><span class=\"borderTriangle outline\"></span><div class=\"commentHeader\"><p class=\"author tightVert strong\"> Sandvik Response</p><p class=\"date minor noMargTop margBotSm\"> seconds ago</p><span class=\"commentEditDel minor floatRt\"><a class=\"link edit\" data-response-id=\"\" href=\"#\"> Edit</a> • <a class=\"link delete\" data-delete-url=\"/Reviews/postReviewCommentsAjax.htm?delete=true&amp;respondableId=18070220\" data-employer-id=\"10375\" data-response-id=\"\" href=\"#\"> Delete</a></span><div class=\"clear\"></div></div><p class=\"commentText quoteText\"></p></div></div></div></div></div><span class=\"hidden\"><span class=\"item\"><span class=\"fn\"> Sandvik</span></span><span class=\"dtreviewed\"> 2017-11-26 18:46 PST</span></span></div></div></div></div></div></div></li>"
      ]
     },
     "execution_count": 61,
     "metadata": {},
     "output_type": "execute_result"
    }
   ],
   "source": [
    "review"
   ]
  },
  {
   "cell_type": "code",
   "execution_count": 71,
   "metadata": {},
   "outputs": [],
   "source": [
    "t = review.find('div', {'class': 'flex-grid recommends'})"
   ]
  },
  {
   "cell_type": "code",
   "execution_count": 73,
   "metadata": {},
   "outputs": [
    {
     "data": {
      "text/plain": [
       "\"Doesn't Recommend\""
      ]
     },
     "execution_count": 73,
     "metadata": {},
     "output_type": "execute_result"
    }
   ],
   "source": [
    "t.find_all('span', class_='middle')[0].getText()"
   ]
  },
  {
   "cell_type": "code",
   "execution_count": 77,
   "metadata": {},
   "outputs": [],
   "source": [
    "t = review.find('div', {'class': 'flex-grid recommends'})\n",
    "recommendations_html = t.find_all('span', class_='middle')\n",
    "recommendations = {'Recommendation {}'.format(idx+1): rec.getText()\n",
    "                   for idx, rec in enumerate(recommendations_html)}"
   ]
  },
  {
   "cell_type": "code",
   "execution_count": 75,
   "metadata": {},
   "outputs": [
    {
     "data": {
      "text/plain": [
       "{'Recommendation 1': \"Doesn't Recommend\",\n",
       " 'Recommendation 2': 'Negative Outlook'}"
      ]
     },
     "execution_count": 75,
     "metadata": {},
     "output_type": "execute_result"
    }
   ],
   "source": [
    "recommendations"
   ]
  },
  {
   "cell_type": "code",
   "execution_count": null,
   "metadata": {},
   "outputs": [],
   "source": []
  }
 ],
 "metadata": {
  "kernelspec": {
   "display_name": "Python 3",
   "language": "python",
   "name": "python3"
  },
  "language_info": {
   "codemirror_mode": {
    "name": "ipython",
    "version": 3
   },
   "file_extension": ".py",
   "mimetype": "text/x-python",
   "name": "python",
   "nbconvert_exporter": "python",
   "pygments_lexer": "ipython3",
   "version": "3.5.2"
  }
 },
 "nbformat": 4,
 "nbformat_minor": 2
}
