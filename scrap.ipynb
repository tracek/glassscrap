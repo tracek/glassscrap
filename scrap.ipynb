{
 "cells": [
  {
   "cell_type": "code",
   "execution_count": 4,
   "metadata": {},
   "outputs": [],
   "source": [
    "import time\n",
    "import json\n",
    "from collections import namedtuple\n",
    "from random import randint\n",
    "from bs4 import BeautifulSoup\n",
    "from selenium import webdriver\n",
    "from selenium.webdriver.common.by import By\n",
    "from selenium.webdriver.support.ui import WebDriverWait\n",
    "from selenium.webdriver.support import expected_conditions as EC\n",
    "from selenium.common.exceptions import TimeoutException\n",
    "from selenium.webdriver.common.keys import Keys\n",
    "\n",
    "from urllib import parse\n",
    "from localcrawler import LocalCrawler\n",
    "from webcrawler import WebCrawler"
   ]
  },
  {
   "cell_type": "code",
   "execution_count": 64,
   "metadata": {},
   "outputs": [],
   "source": [
    "Credentials = namedtuple('Credentials', ['username', 'password'])\n",
    "\n",
    "def get_crawler(uri):\n",
    "    if parse.urlparse(uri).scheme in ('http', 'https',):\n",
    "        scraper = WebCrawler(uri)\n",
    "    else:\n",
    "        scraper = LocalCrawler(uri)\n",
    "    return scraper\n",
    "\n",
    "def init_driver(driver_path):\n",
    "    driver = webdriver.Chrome(driver_path)\n",
    "    return driver\n",
    "\n",
    "def get_credentials(path):\n",
    "    with open(path, \"r\") as f:\n",
    "        lines = f.readlines()\n",
    "        account = Credentials(username=lines[0], password=lines[1])\n",
    "    return account\n",
    "\n",
    "def login(driver, credentials):\n",
    "    driver.get(\"http://www.glassdoor.com/profile/login_input.htm\")\n",
    "    try:\n",
    "        user_field = driver.wait.until(EC.presence_of_element_located(\n",
    "            (By.NAME, \"username\")))\n",
    "        pw_field = driver.find_element_by_class_name(\"signin-password\")\n",
    "        login_button = driver.find_element_by_id(\"signInBtn\")\n",
    "        user_field.send_keys(credentials.username)\n",
    "        user_field.send_keys(Keys.TAB)\n",
    "        time.sleep(1)\n",
    "        pw_field.send_keys(credentials.password)\n",
    "        time.sleep(1)\n",
    "        login_button.click()\n",
    "        time.sleep(3)\n",
    "    except TimeoutException:\n",
    "        print(\"TimeoutException! Username/password field or login button not found on glassdoor.com\")\n",
    "\n",
    "def get_total_pages(driver, url):\n",
    "    driver.get(url)\n",
    "    total_rev_present = EC.presence_of_element_located((By.CSS_SELECTOR, '.eiCell.cell.reviews.active'))\n",
    "    total_rev_element = WebDriverWait(driver, 10).until(total_rev_present)\n",
    "    total_rev_str = total_rev_element.find_element_by_css_selector('.num.h2').text\n",
    "    total_rev = int(total_rev_str)\n",
    "    total_pages = total_rev // reviews_per_page\n",
    "    return total_pages\n",
    "\n",
    "def get_datetime(review):\n",
    "    datetime = review.find(\"time\").attrs['datetime']\n",
    "    return datetime\n",
    "\n",
    "def get_ratings(review):\n",
    "    themes = ['Work Life Balance',\n",
    "              'Culture and Values',\n",
    "              'Career Opportunities',\n",
    "              'Compensation and Benefits',\n",
    "              'Senior Management']\n",
    "    ratings_html = review.find_all('span', {'class': \"gdBars gdRatings med \"})\n",
    "    ratings = {theme: int(float(rating.attrs['title'])) for theme, rating in zip(themes, ratings_html)}\n",
    "    return ratings\n",
    "\n",
    "def get_jobtitle(review):\n",
    "    title = review.find('span', {'class': 'authorJobTitle middle reviewer'})\n",
    "    if title:\n",
    "        title = title.text\n",
    "    return title\n",
    "\n",
    "def get_location(review):\n",
    "    location = review.find('span', {'class': 'authorLocation middle'})\n",
    "    if location:\n",
    "        location = location.text\n",
    "    return location\n",
    "\n",
    "def get_recommendations(review):\n",
    "    t = review.find('div', {'class': 'flex-grid recommends'})\n",
    "    recommendations_html = t.find_all('span', class_='middle')\n",
    "    if recommendations_html:\n",
    "        recommendations = {'Recommendation {}'.format(idx+1): rec.getText()\n",
    "                            for idx, rec in enumerate(recommendations_html)}\n",
    "    else:\n",
    "        recommendations = None\n",
    "    return recommendations\n",
    "\n",
    "def get_maintext(review):\n",
    "    main_text = review.find('p', {'class': ' tightBot mainText'})\n",
    "    if main_text:\n",
    "        main_text = main_text.text.replace(u'\\xa0', u' ')\n",
    "    return main_text\n",
    "\n",
    "def get_pros(review):\n",
    "    pros = review.find('p', {'class': ' pros mainText truncateThis wrapToggleStr'})\n",
    "    if pros:\n",
    "        pros = pros.text\n",
    "    return pros\n",
    "\n",
    "def get_cons(review):\n",
    "    cons = review.find('p', {'class': ' cons mainText truncateThis wrapToggleStr'})\n",
    "    if cons:\n",
    "        cons = cons.text\n",
    "    return cons\n",
    "\n",
    "def get_advice(review):\n",
    "    advice = review.find('p', {'class': 'dviceMgmt mainText truncateThis wrapToggleStr truncatedThis pointer'})\n",
    "    if advice:\n",
    "        advice = advice.text\n",
    "    return advice    "
   ]
  },
  {
   "cell_type": "code",
   "execution_count": 5,
   "metadata": {},
   "outputs": [],
   "source": [
    "uri = 'www'\n",
    "crawler = get_crawler(uri)"
   ]
  },
  {
   "cell_type": "code",
   "execution_count": 13,
   "metadata": {},
   "outputs": [],
   "source": [
    "HTML = next(crawler.get_page())\n",
    "soup = BeautifulSoup(HTML, \"html.parser\")\n",
    "reviews = soup.find_all(\"li\", { \"class\" : [\"empReview\", \"padVert\"] })"
   ]
  },
  {
   "cell_type": "code",
   "execution_count": 14,
   "metadata": {},
   "outputs": [],
   "source": [
    "review = reviews[1]"
   ]
  },
  {
   "cell_type": "code",
   "execution_count": 65,
   "metadata": {},
   "outputs": [
    {
     "data": {
      "text/plain": [
       "'Former Employee - Sales Representative'"
      ]
     },
     "execution_count": 65,
     "metadata": {},
     "output_type": "execute_result"
    }
   ],
   "source": [
    "get_jobtitle(review)"
   ]
  },
  {
   "cell_type": "code",
   "execution_count": 66,
   "metadata": {},
   "outputs": [
    {
     "data": {
      "text/plain": [
       "'Cleveland, OH'"
      ]
     },
     "execution_count": 66,
     "metadata": {},
     "output_type": "execute_result"
    }
   ],
   "source": [
    "get_location(review)"
   ]
  },
  {
   "cell_type": "code",
   "execution_count": 67,
   "metadata": {},
   "outputs": [
    {
     "data": {
      "text/plain": [
       "{'Recommendation 1': \"Doesn't Recommend\",\n",
       " 'Recommendation 2': 'Negative Outlook'}"
      ]
     },
     "execution_count": 67,
     "metadata": {},
     "output_type": "execute_result"
    }
   ],
   "source": [
    "get_recommendations(review)"
   ]
  },
  {
   "cell_type": "code",
   "execution_count": 68,
   "metadata": {},
   "outputs": [
    {
     "data": {
      "text/plain": [
       "'I worked at Sandvik full-time (More than 10 years)'"
      ]
     },
     "execution_count": 68,
     "metadata": {},
     "output_type": "execute_result"
    }
   ],
   "source": [
    "get_maintext(review)"
   ]
  },
  {
   "cell_type": "code",
   "execution_count": 69,
   "metadata": {},
   "outputs": [
    {
     "data": {
      "text/plain": [
       "'Benefits - Some old timers left with a lot of industry knowledge to learn from.'"
      ]
     },
     "execution_count": 69,
     "metadata": {},
     "output_type": "execute_result"
    }
   ],
   "source": [
    "get_pros(review)"
   ]
  },
  {
   "cell_type": "code",
   "execution_count": 70,
   "metadata": {},
   "outputs": [
    {
     "data": {
      "text/plain": [
       "\"Endless management reorganization. Intellectual capital and good managers are leaving. Many managers have insufficient knowledge or experience to manage sales teams and above. Ethical issues. Code of conduct isn't adhered to, problems just get swept under the carpet. Marketing seems lost.\""
      ]
     },
     "execution_count": 70,
     "metadata": {},
     "output_type": "execute_result"
    }
   ],
   "source": [
    "get_cons(review)"
   ]
  },
  {
   "cell_type": "code",
   "execution_count": 71,
   "metadata": {},
   "outputs": [],
   "source": [
    "get_advice(review)"
   ]
  },
  {
   "cell_type": "code",
   "execution_count": 72,
   "metadata": {},
   "outputs": [],
   "source": [
    "location = review.find('span', {'class': 'authorLocation middle'})"
   ]
  },
  {
   "cell_type": "code",
   "execution_count": 77,
   "metadata": {},
   "outputs": [],
   "source": [
    "location.getText?"
   ]
  },
  {
   "cell_type": "code",
   "execution_count": 78,
   "metadata": {},
   "outputs": [],
   "source": [
    "review.find('p', {'class': 'dviceMgmt mainText truncateThis wrapToggleStr truncatedThis pointer'})"
   ]
  },
  {
   "cell_type": "code",
   "execution_count": null,
   "metadata": {},
   "outputs": [],
   "source": []
  }
 ],
 "metadata": {
  "kernelspec": {
   "display_name": "Python 3",
   "language": "python",
   "name": "python3"
  },
  "language_info": {
   "codemirror_mode": {
    "name": "ipython",
    "version": 3
   },
   "file_extension": ".py",
   "mimetype": "text/x-python",
   "name": "python",
   "nbconvert_exporter": "python",
   "pygments_lexer": "ipython3",
   "version": "3.5.2"
  }
 },
 "nbformat": 4,
 "nbformat_minor": 2
}
